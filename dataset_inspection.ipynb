{
 "cells": [
  {
   "cell_type": "code",
   "execution_count": 1,
   "metadata": {},
   "outputs": [
    {
     "name": "stdout",
     "output_type": "stream",
     "text": [
      "Number of records: 1106\n"
     ]
    },
    {
     "data": {
      "text/html": [
       "<div>\n",
       "<style scoped>\n",
       "    .dataframe tbody tr th:only-of-type {\n",
       "        vertical-align: middle;\n",
       "    }\n",
       "\n",
       "    .dataframe tbody tr th {\n",
       "        vertical-align: top;\n",
       "    }\n",
       "\n",
       "    .dataframe thead th {\n",
       "        text-align: right;\n",
       "    }\n",
       "</style>\n",
       "<table border=\"1\" class=\"dataframe\">\n",
       "  <thead>\n",
       "    <tr style=\"text-align: right;\">\n",
       "      <th></th>\n",
       "      <th>Min</th>\n",
       "      <th>Median</th>\n",
       "      <th>Max</th>\n",
       "    </tr>\n",
       "  </thead>\n",
       "  <tbody>\n",
       "    <tr>\n",
       "      <th>bmi</th>\n",
       "      <td>17.284000</td>\n",
       "      <td>26.405000</td>\n",
       "      <td>49.987000</td>\n",
       "    </tr>\n",
       "    <tr>\n",
       "      <th>hc</th>\n",
       "      <td>80.000000</td>\n",
       "      <td>102.000000</td>\n",
       "      <td>139.000000</td>\n",
       "    </tr>\n",
       "    <tr>\n",
       "      <th>wc</th>\n",
       "      <td>68.000000</td>\n",
       "      <td>94.000000</td>\n",
       "      <td>134.000000</td>\n",
       "    </tr>\n",
       "    <tr>\n",
       "      <th>bf</th>\n",
       "      <td>22.137240</td>\n",
       "      <td>38.071553</td>\n",
       "      <td>56.855239</td>\n",
       "    </tr>\n",
       "    <tr>\n",
       "      <th>ffm</th>\n",
       "      <td>29.124302</td>\n",
       "      <td>45.241574</td>\n",
       "      <td>64.091980</td>\n",
       "    </tr>\n",
       "    <tr>\n",
       "      <th>risk10_ascvd</th>\n",
       "      <td>0.034842</td>\n",
       "      <td>1.333939</td>\n",
       "      <td>48.700610</td>\n",
       "    </tr>\n",
       "  </tbody>\n",
       "</table>\n",
       "</div>"
      ],
      "text/plain": [
       "                    Min      Median         Max\n",
       "bmi           17.284000   26.405000   49.987000\n",
       "hc            80.000000  102.000000  139.000000\n",
       "wc            68.000000   94.000000  134.000000\n",
       "bf            22.137240   38.071553   56.855239\n",
       "ffm           29.124302   45.241574   64.091980\n",
       "risk10_ascvd   0.034842    1.333939   48.700610"
      ]
     },
     "execution_count": 1,
     "metadata": {},
     "output_type": "execute_result"
    }
   ],
   "source": [
    "import pandas as pd\n",
    "\n",
    "\n",
    "df = pd.read_excel(\"cohort.xlsx\")  \n",
    "print(\"Number of records:\", len(df))\n",
    "\n",
    "# Summary stats of numeric features\n",
    "features = ['bmi', 'hc', 'wc', 'bf', 'ffm','risk10_ascvd']\n",
    "summary = df[features].agg(['min', 'median', 'max']).T\n",
    "summary.columns = ['Min', 'Median', 'Max']\n",
    "summary\n",
    "\n"
   ]
  },
  {
   "cell_type": "code",
   "execution_count": 2,
   "metadata": {},
   "outputs": [
    {
     "name": "stdout",
     "output_type": "stream",
     "text": [
      "Number of records: 444\n"
     ]
    },
    {
     "data": {
      "text/html": [
       "<div>\n",
       "<style scoped>\n",
       "    .dataframe tbody tr th:only-of-type {\n",
       "        vertical-align: middle;\n",
       "    }\n",
       "\n",
       "    .dataframe tbody tr th {\n",
       "        vertical-align: top;\n",
       "    }\n",
       "\n",
       "    .dataframe thead th {\n",
       "        text-align: right;\n",
       "    }\n",
       "</style>\n",
       "<table border=\"1\" class=\"dataframe\">\n",
       "  <thead>\n",
       "    <tr style=\"text-align: right;\">\n",
       "      <th></th>\n",
       "      <th>Min</th>\n",
       "      <th>Median</th>\n",
       "      <th>Max</th>\n",
       "    </tr>\n",
       "  </thead>\n",
       "  <tbody>\n",
       "    <tr>\n",
       "      <th>bmi</th>\n",
       "      <td>17.284000</td>\n",
       "      <td>26.106500</td>\n",
       "      <td>41.788000</td>\n",
       "    </tr>\n",
       "    <tr>\n",
       "      <th>hc</th>\n",
       "      <td>83.000000</td>\n",
       "      <td>101.000000</td>\n",
       "      <td>125.000000</td>\n",
       "    </tr>\n",
       "    <tr>\n",
       "      <th>wc</th>\n",
       "      <td>71.000000</td>\n",
       "      <td>95.500000</td>\n",
       "      <td>125.500000</td>\n",
       "    </tr>\n",
       "    <tr>\n",
       "      <th>bf</th>\n",
       "      <td>23.195604</td>\n",
       "      <td>38.228120</td>\n",
       "      <td>53.516106</td>\n",
       "    </tr>\n",
       "    <tr>\n",
       "      <th>ffm</th>\n",
       "      <td>33.086928</td>\n",
       "      <td>48.012500</td>\n",
       "      <td>63.806256</td>\n",
       "    </tr>\n",
       "    <tr>\n",
       "      <th>risk10_ascvd</th>\n",
       "      <td>0.253721</td>\n",
       "      <td>3.839689</td>\n",
       "      <td>38.422621</td>\n",
       "    </tr>\n",
       "  </tbody>\n",
       "</table>\n",
       "</div>"
      ],
      "text/plain": [
       "                    Min      Median         Max\n",
       "bmi           17.284000   26.106500   41.788000\n",
       "hc            83.000000  101.000000  125.000000\n",
       "wc            71.000000   95.500000  125.500000\n",
       "bf            23.195604   38.228120   53.516106\n",
       "ffm           33.086928   48.012500   63.806256\n",
       "risk10_ascvd   0.253721    3.839689   38.422621"
      ]
     },
     "execution_count": 2,
     "metadata": {},
     "output_type": "execute_result"
    }
   ],
   "source": [
    "import pandas as pd\n",
    "\n",
    "\n",
    "df = pd.read_excel(\"stratifiedcohort.xlsx\")  \n",
    "print(\"Number of records:\", len(df))\n",
    "\n",
    "# Summary stats of numeric features\n",
    "features = ['bmi', 'hc', 'wc', 'bf', 'ffm','risk10_ascvd']\n",
    "summary = df[features].agg(['min', 'median', 'max']).T\n",
    "summary.columns = ['Min', 'Median', 'Max']\n",
    "summary\n"
   ]
  }
 ],
 "metadata": {
  "kernelspec": {
   "display_name": "Python 3",
   "language": "python",
   "name": "python3"
  },
  "language_info": {
   "codemirror_mode": {
    "name": "ipython",
    "version": 3
   },
   "file_extension": ".py",
   "mimetype": "text/x-python",
   "name": "python",
   "nbconvert_exporter": "python",
   "pygments_lexer": "ipython3",
   "version": "3.11.9"
  }
 },
 "nbformat": 4,
 "nbformat_minor": 2
}
